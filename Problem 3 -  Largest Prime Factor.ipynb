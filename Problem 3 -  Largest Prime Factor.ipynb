{
 "cells": [
  {
   "cell_type": "markdown",
   "id": "f0ad813f",
   "metadata": {},
   "source": [
    "## Topic: \n",
    "\n",
    "<p>The prime factors of $13195$ are $5, 7, 13$ and $29$.</p>\n",
    "<p>What is the largest prime factor of the number $600851475143$?</p>"
   ]
  },
  {
   "cell_type": "code",
   "execution_count": 4,
   "id": "8494e272",
   "metadata": {},
   "outputs": [
    {
     "name": "stdout",
     "output_type": "stream",
     "text": [
      "6857.0\n"
     ]
    }
   ],
   "source": [
    "# Observation that if d_max exist we have for sure n = d_min * d_max \n",
    "# then we can go and breakdown d_max into it's facot cause it willl have the same max prime as n\n",
    "# reccursion style\n",
    "# seems to be better than previous tries as i am not triple checking if a factor is prime\n",
    "\n",
    "def find_largest_prime_factor(n, last_factor=2):\n",
    "    \"\"\"\n",
    "    Search for the largest prime factor in n\n",
    "    \n",
    "    Input\n",
    "    -----\n",
    "    n: int\n",
    "    last_factor: int\n",
    "    \n",
    "    Output\n",
    "    -----\n",
    "    res: int, which will be lastest value for last_factor\n",
    "    \n",
    "    \"\"\"        \n",
    "    factor = last_factor\n",
    "    max_factor = n//2+1\n",
    "    #print(n, factor, n//2+1)\n",
    "    while (n % factor != 0 and factor <= max_factor):            \n",
    "        if factor ==2:\n",
    "            # case where last_factor = 2 and we want the next one to be 3\n",
    "            factor +=1\n",
    "        else: \n",
    "            # any other case we want to use only odd number aka increment by 2 from 3\n",
    "            factor +=2\n",
    "    if factor > max_factor: \n",
    "        print(n) # no factor thus n i prime\n",
    "    else: \n",
    "        new_n = n / factor\n",
    "        find_largest_prime_factor(new_n, last_factor=factor) # call the reccursion on new_n but same last_factor\n",
    "\n",
    "# Test the function\n",
    "#n = 131950000\n",
    "n = 600851475143\n",
    "#n = 2*1009*6857\n",
    "#n = 2*1009*(2^127-1)\n",
    "#n = 2*1009*384068408551440964100964302449\n",
    "# n = 2*109*5667213563875045128661658900073294468986805938952779462650872483861509907677750342110699269342586549\n",
    "find_largest_prime_factor(n)"
   ]
  },
  {
   "cell_type": "code",
   "execution_count": 6,
   "id": "ade2c272",
   "metadata": {},
   "outputs": [
    {
     "name": "stdout",
     "output_type": "stream",
     "text": [
      "6857.0\n"
     ]
    }
   ],
   "source": [
    "# optimization of previous script from the official solution\n",
    "# realising that the prime factor of n has to be look between 1 and sqrt(n)\n",
    "\n",
    "import math \n",
    "\n",
    "def find_largest_prime_factor_optim(n, last_factor=2):\n",
    "    \"\"\"\n",
    "    Search for the largest prime factor in n\n",
    "    \n",
    "    Input\n",
    "    -----\n",
    "    n: int\n",
    "    last_factor: int\n",
    "    \n",
    "    Output\n",
    "    -----\n",
    "    res: int, which will be lastest value for last_factor\n",
    "    \n",
    "    \"\"\"        \n",
    "    factor = last_factor\n",
    "    max_factor = math.sqrt(n)\n",
    "    #print(n, factor, n//2+1)\n",
    "    while (n % factor != 0 and factor <= max_factor):            \n",
    "        if factor ==2:\n",
    "            # case where last_factor = 2 and we want the next one to be 3\n",
    "            factor +=1\n",
    "        else: \n",
    "            # any other case we want to use only odd number aka increment by 2 from 3\n",
    "            factor +=2\n",
    "    if factor > max_factor: \n",
    "        #print(n, factor, n//2+1)\n",
    "        print(n) # no factor thus n i prime\n",
    "    else: \n",
    "        new_n = n / factor\n",
    "        find_largest_prime_factor(new_n, last_factor=factor) # call the reccursion on new_n but same last_factor\n",
    "\n",
    "# Test the function\n",
    "#n = 131950000\n",
    "n = 600851475143\n",
    "#n = 2*1009*6857\n",
    "#n = 2*1009*(2^127-1)\n",
    "#n = 2*1009*384068408551440964100964302449\n",
    "# n = 2*109*5667213563875045128661658900073294468986805938952779462650872483861509907677750342110699269342586549\n",
    "find_largest_prime_factor(n)"
   ]
  },
  {
   "cell_type": "code",
   "execution_count": 7,
   "id": "eba64f5c",
   "metadata": {},
   "outputs": [
    {
     "data": {
      "text/plain": [
       "6857"
      ]
     },
     "execution_count": 7,
     "metadata": {},
     "output_type": "execute_result"
    }
   ],
   "source": [
    "# solution from chatgpt\n",
    "# Assuming the functions are defined as follows:\n",
    "\n",
    "def chat_gpt_find_largest_prime_factor_optim(n):\n",
    "    # Optimized implementation\n",
    "    largest_prime = None\n",
    "    i = 2\n",
    "    while i * i <= n:\n",
    "        while n % i == 0:\n",
    "            largest_prime = i\n",
    "            n //= i\n",
    "        i += 1\n",
    "    if n > 1:\n",
    "        largest_prime = n\n",
    "    return largest_prime\n",
    "\n",
    "# Test the function\n",
    "#n = 131950000\n",
    "n = 600851475143\n",
    "#n = 2*1009*6857\n",
    "#n = 2*1009*(2^127-1)\n",
    "#n = 2*1009*384068408551440964100964302449\n",
    "# n = 2*109*5667213563875045128661658900073294468986805938952779462650872483861509907677750342110699269342586549\n",
    "chat_gpt_find_largest_prime_factor_optim(n)"
   ]
  },
  {
   "cell_type": "code",
   "execution_count": 8,
   "id": "8d53bd5f",
   "metadata": {},
   "outputs": [
    {
     "ename": "KeyboardInterrupt",
     "evalue": "",
     "output_type": "error",
     "traceback": [
      "\u001b[0;31m---------------------------------------------------------------------------\u001b[0m",
      "\u001b[0;31mKeyboardInterrupt\u001b[0m                         Traceback (most recent call last)",
      "\u001b[0;32m/var/folders/y0/y9b7zlz53n53dq8hm2lh15_w0000gn/T/ipykernel_80048/1383489366.py\u001b[0m in \u001b[0;36m<module>\u001b[0;34m\u001b[0m\n\u001b[1;32m     23\u001b[0m \u001b[0;31m#n = 2*1009*384068408551440964100964302449\u001b[0m\u001b[0;34m\u001b[0m\u001b[0;34m\u001b[0m\u001b[0m\n\u001b[1;32m     24\u001b[0m \u001b[0;31m# n = 2*109*5667213563875045128661658900073294468986805938952779462650872483861509907677750342110699269342586549\u001b[0m\u001b[0;34m\u001b[0m\u001b[0;34m\u001b[0m\u001b[0m\n\u001b[0;32m---> 25\u001b[0;31m \u001b[0mchat_gpt_find_largest_prime_factor\u001b[0m\u001b[0;34m(\u001b[0m\u001b[0mn\u001b[0m\u001b[0;34m)\u001b[0m\u001b[0;34m\u001b[0m\u001b[0;34m\u001b[0m\u001b[0m\n\u001b[0m",
      "\u001b[0;32m/var/folders/y0/y9b7zlz53n53dq8hm2lh15_w0000gn/T/ipykernel_80048/1383489366.py\u001b[0m in \u001b[0;36mchat_gpt_find_largest_prime_factor\u001b[0;34m(n)\u001b[0m\n\u001b[1;32m     13\u001b[0m     \u001b[0mlargest_prime\u001b[0m \u001b[0;34m=\u001b[0m \u001b[0;36m1\u001b[0m\u001b[0;34m\u001b[0m\u001b[0;34m\u001b[0m\u001b[0m\n\u001b[1;32m     14\u001b[0m     \u001b[0;32mfor\u001b[0m \u001b[0mi\u001b[0m \u001b[0;32min\u001b[0m \u001b[0mrange\u001b[0m\u001b[0;34m(\u001b[0m\u001b[0;36m2\u001b[0m\u001b[0;34m,\u001b[0m \u001b[0mn\u001b[0m \u001b[0;34m+\u001b[0m \u001b[0;36m1\u001b[0m\u001b[0;34m)\u001b[0m\u001b[0;34m:\u001b[0m\u001b[0;34m\u001b[0m\u001b[0;34m\u001b[0m\u001b[0m\n\u001b[0;32m---> 15\u001b[0;31m         \u001b[0;32mif\u001b[0m \u001b[0mn\u001b[0m \u001b[0;34m%\u001b[0m \u001b[0mi\u001b[0m \u001b[0;34m==\u001b[0m \u001b[0;36m0\u001b[0m \u001b[0;32mand\u001b[0m \u001b[0mis_prime\u001b[0m\u001b[0;34m(\u001b[0m\u001b[0mi\u001b[0m\u001b[0;34m)\u001b[0m\u001b[0;34m:\u001b[0m\u001b[0;34m\u001b[0m\u001b[0;34m\u001b[0m\u001b[0m\n\u001b[0m\u001b[1;32m     16\u001b[0m             \u001b[0mlargest_prime\u001b[0m \u001b[0;34m=\u001b[0m \u001b[0mi\u001b[0m\u001b[0;34m\u001b[0m\u001b[0;34m\u001b[0m\u001b[0m\n\u001b[1;32m     17\u001b[0m     \u001b[0;32mreturn\u001b[0m \u001b[0mlargest_prime\u001b[0m\u001b[0;34m\u001b[0m\u001b[0;34m\u001b[0m\u001b[0m\n",
      "\u001b[0;31mKeyboardInterrupt\u001b[0m: "
     ]
    }
   ],
   "source": [
    "# solution from chatgpt\n",
    "# Assuming the functions are defined as follows:\n",
    "def chat_gpt_find_largest_prime_factor(n):\n",
    "    # Regular implementation\n",
    "    def is_prime(num):\n",
    "        if num <= 1:\n",
    "            return False\n",
    "        for i in range(2, int(num**0.5) + 1):\n",
    "            if num % i == 0:\n",
    "                return False\n",
    "        return True\n",
    "\n",
    "    largest_prime = 1\n",
    "    for i in range(2, n + 1):\n",
    "        if n % i == 0 and is_prime(i):\n",
    "            largest_prime = i\n",
    "    return largest_prime\n",
    "# Test the function\n",
    "#n = 131950000\n",
    "n = 600851475143\n",
    "#n = 2*1009*6857\n",
    "#n = 2*1009*(2^127-1)\n",
    "#n = 2*1009*384068408551440964100964302449\n",
    "# n = 2*109*5667213563875045128661658900073294468986805938952779462650872483861509907677750342110699269342586549\n",
    "chat_gpt_find_largest_prime_factor(n)"
   ]
  },
  {
   "cell_type": "code",
   "execution_count": 18,
   "id": "22247248",
   "metadata": {},
   "outputs": [
    {
     "name": "stdout",
     "output_type": "stream",
     "text": [
      "60089.0\n",
      "My function execution time: 0.007084 seconds\n",
      "60089.0\n",
      "Project Euler optim solution function execution time: 0.005373 seconds\n",
      "My function solution: 60089 \n",
      "ChatGPT Optimized function execution time: 0.000062 seconds\n",
      "My function solution: 60089 \n",
      "ChatGPT Regular function execution time: 3.506980 seconds\n"
     ]
    }
   ],
   "source": [
    "import timeit\n",
    "\n",
    "# Test the functions with a sample number\n",
    "n = 60089000\n",
    "\n",
    "# Measure execution time for find_largest_prime_factor\n",
    "time_optim = timeit.timeit(lambda: find_largest_prime_factor(n), number=1)\n",
    "print(f\"My function execution time: {time_optim:.6f} seconds\")\n",
    "\n",
    "# Measure execution time for find_largest_prime_factor_optim\n",
    "time_optim = timeit.timeit(lambda: find_largest_prime_factor_optim(n), number=1)\n",
    "print(f\"Project Euler optim solution function execution time: {time_optim:.6f} seconds\")\n",
    "\n",
    "# Measure execution time for chat_gpt_find_largest_prime_factor_optim\n",
    "time_optim = timeit.timeit(lambda: chat_gpt_find_largest_prime_factor_optim(n), number=1)\n",
    "print(f\"My function solution: {chat_gpt_find_largest_prime_factor_optim(n)} \")\n",
    "print(f\"ChatGPT Optimized function execution time: {time_optim:.6f} seconds\")\n",
    "\n",
    "# Measure execution time for chat_gpt_find_largest_prime_factor\n",
    "time_regular = timeit.timeit(lambda: chat_gpt_find_largest_prime_factor(n), number=1)\n",
    "print(f\"My function solution: {chat_gpt_find_largest_prime_factor(n)} \")\n",
    "print(f\"ChatGPT Regular function execution time: {time_regular:.6f} seconds\")"
   ]
  },
  {
   "cell_type": "markdown",
   "id": "54dd7206",
   "metadata": {},
   "source": [
    "------------"
   ]
  },
  {
   "cell_type": "markdown",
   "id": "6eced194",
   "metadata": {},
   "source": [
    "# By draft before realizing that we are not guess but always pen and paper"
   ]
  },
  {
   "cell_type": "code",
   "execution_count": null,
   "id": "f89ee4ce",
   "metadata": {},
   "outputs": [],
   "source": [
    "# New approach - idea: built the result directly in search\n",
    "\n",
    "global prime_number_list \n",
    "prime_number_list = [2,3,5,7]\n",
    "\n",
    "# defining help function\n",
    "def find_prime_factor(n, last_checked_prime_index = 0):\n",
    "    \n",
    "    print(f\"we are check if the number {n} is prime\")\n",
    "    \n",
    "    # if the number is prime thus it it's own max prime factor\n",
    "    if n in prime_number_list:\n",
    "        print('Escape 1')\n",
    "        return n\n",
    "    \n",
    "    # we try the list of index already checked and reccursively call find_prime_factor\n",
    "    elif last_checked_prime_index =< len(last_checked_prime_index)-1:\n",
    "        while n % prime_number_list[last_checked_prime_index]:\n",
    "            n = n / prime_number_list[last_checked_prime_index]\n",
    "        last_checked_prime_index +=1\n",
    "        find_prime_factor(n, last_checked_prime_index)\n",
    "    \n",
    "    # here we should create a logic to increase prime_number_list with for new testing\n",
    "    # i have feelings (aka need to be proven) that we only need to loop from latest max prime +2 to n/2\n",
    "    # only taking on odd number (so increase by 2)\n",
    "    else: \n",
    "        for i in range(max(prime_number_list)+2, (n+1)//2, 2):\n",
    "            mask_if_prime_already_found = [i%prime_i == 0 for prime_i in prime_number_list]\n",
    "            if sum(mask_if_prime_already_found) == 0: \n",
    "                prime_number_list.append(i) #if no previous prime is a factor of i then i is a prime so we add it\n",
    "                if n % i == 0:\n",
    "                print(n, 'Escape 3')\n",
    "                return False\n",
    "    \n",
    "    prime_number_list.append(n)\n",
    "    print('Escape final 4')\n",
    "    return True\n",
    "\n",
    "is_prime(11)"
   ]
  },
  {
   "cell_type": "code",
   "execution_count": null,
   "id": "e8fa511d",
   "metadata": {},
   "outputs": [],
   "source": [
    "# brute force approach to answer and we will find elegant one later\n",
    "\n",
    "num = 600851475143\n",
    "\n",
    "# defining help function\n",
    "def is_prime(n):\n",
    "        \n",
    "    # loop \n",
    "    for i in range(2, n):\n",
    "        if n % i == 0: \n",
    "            return False\n",
    "        \n",
    "    return True  \n",
    "\n",
    "# find largest divisible \n",
    "# we smart a little bit the brute force by doing backward from n-1 to 2, if no answer then the number is prime\n",
    "# not sure it actually smart cause you can easily find a first prime\n",
    "max_prime_number = num\n",
    "for i in range(num-1,2, -1): \n",
    "    if is_prime(i) and num % i == 0 : \n",
    "        max_prime_number = i\n",
    "        break\n",
    "print(max_prime_number)\n",
    "\n",
    "# failling the one-minute rule"
   ]
  },
  {
   "cell_type": "code",
   "execution_count": null,
   "id": "f60ba76e",
   "metadata": {
    "scrolled": false
   },
   "outputs": [],
   "source": [
    "# brute force approach to answer and we will find elegant one later\n",
    "# let try to add one intuition about the factor should be less than n/2\n",
    "\n",
    "# initialization of prime number list\n",
    "global prime_number_list \n",
    "prime_number_list = [2,3, 5,7]\n",
    "\n",
    "# defining help function\n",
    "def is_prime(n):\n",
    "    \n",
    "    print(f\"we are check if the number {n} is prime\")\n",
    "    \n",
    "    if n in prime_number_list:\n",
    "        print('Escape 1')\n",
    "        return True\n",
    "    \n",
    "    for prime in prime_number_list:\n",
    "        print('check Escape 2 with', prime)\n",
    "        if n % prime == 0:\n",
    "            print('Escape 2 - ', n, 'is disible by ', prime)\n",
    "            return False\n",
    "        \n",
    "    # Loop after last prime number but skip even number\n",
    "    # actually we could optimize by finding a way to ask all multiple of already find prime number\n",
    "    for i in range(max(prime_number_list)+2, n, 2):\n",
    "        mask_if_prime_already_found = [i%prime_i == 0 for prime_i in prime_number_list]\n",
    "        if sum(mask_if_prime_already_found) == 0: \n",
    "            prime_number_list.append(i) #if no previous prime is a factor of i then i is a prime so we add it\n",
    "            if n % i == 0:\n",
    "                print(n, 'Escape 3')\n",
    "                return False\n",
    "    \n",
    "    prime_number_list.append(n)\n",
    "    print('Escape final 4')\n",
    "    return True\n",
    "\n",
    "is_prime(11)"
   ]
  },
  {
   "cell_type": "code",
   "execution_count": null,
   "id": "0349687c",
   "metadata": {},
   "outputs": [],
   "source": [
    "prime_number_list"
   ]
  },
  {
   "cell_type": "code",
   "execution_count": null,
   "id": "ac2af35a",
   "metadata": {},
   "outputs": [],
   "source": [
    "# find largest divisible \n",
    "# we smart a little bit the brute force by doing backward from n-1 to 2, if no answer then the number is prime\n",
    "# not sure it actually smart cause you can easily find a first prime\n",
    "\n",
    "import time \n",
    "\n",
    "# Example usage:\n",
    "num = 131950000\n",
    "\n",
    "# Start time measurement\n",
    "start_time = time.time()\n",
    "\n",
    "max_prime_number = num\n",
    "for i in range(2, (num+1)//2,):\n",
    "    if i%1000000 == 0: \n",
    "        print(\"check up point, \", i)\n",
    "    if num % i == 0 and is_prime(i): \n",
    "        print(\"Found one, \", i)\n",
    "        max_prime_number = i\n",
    "\n",
    "print(\"Final point, \", i)\n",
    "print(\"\")\n",
    "# End time measurement\n",
    "end_time = time.time()\n",
    "\n",
    "print(f\"Largest prime factor is \", max_prime_number)\n",
    "print(\"Execution time:\", end_time - start_time, \"seconds\")"
   ]
  },
  {
   "cell_type": "code",
   "execution_count": null,
   "id": "ccaa2cf8",
   "metadata": {},
   "outputs": [],
   "source": [
    "# find largest divisible \n",
    "# we smart a little bit the brute force by doing backward from n-1 to 2, if no answer then the number is prime\n",
    "# not sure it actually smart cause you can easily find a first prime\n",
    "\n",
    "import time \n",
    "\n",
    "# Example usage:\n",
    "num = 131950000\n",
    "num = 600851475143\n",
    "num = 6008514\n",
    "\n",
    "# Start time measurement\n",
    "start_time = time.time()\n",
    "\n",
    "temp_num = num\n",
    "max_prime_number = 2\n",
    "factor_time = 0\n",
    "for prime in prime_number_list:\n",
    "    print(\"In - \", temp_num, prime)\n",
    "    while temp_num % prime == 0:\n",
    "        factor_time +=1\n",
    "        temp_num = temp_num / prime\n",
    "    print(\"Out - \", prime, factor_time, temp_num)\n",
    "    factor_time = 0\n",
    "    max_prime_number = prime\n",
    "    if not is_prime(temp_num): \n",
    "        next\n",
    "    else:\n",
    "        max_prime_number = temp_num\n",
    "        print(\"we found the max prime: \", max_prime_number)\n",
    "        break\n",
    "    \n",
    "    \n",
    "print(\"\")\n",
    "# End time measurement\n",
    "end_time = time.time()\n",
    "\n",
    "print(f\"Largest prime factor is \", max_prime_number)\n",
    "print(f\"Largest prime factor is \", max_prime_number)\n",
    "print(\"Execution time:\", end_time - start_time, \"seconds\")"
   ]
  },
  {
   "cell_type": "code",
   "execution_count": null,
   "id": "e499d96f",
   "metadata": {
    "scrolled": true
   },
   "outputs": [],
   "source": [
    "is_prime(377)"
   ]
  },
  {
   "cell_type": "code",
   "execution_count": null,
   "id": "7ae4f915",
   "metadata": {},
   "outputs": [],
   "source": [
    "prime_number_list"
   ]
  },
  {
   "cell_type": "code",
   "execution_count": null,
   "id": "7bc50473",
   "metadata": {},
   "outputs": [],
   "source": [
    "# Example usage:\n",
    "\n",
    "num = 600851475143\n",
    "num = 6008514\n",
    "\n",
    "# Start time measurement\n",
    "start_time = time.time()\n",
    "print(start_time)\n",
    "\n",
    "max_prime_number = num\n",
    "for i in range(2, (num+1)//2,):\n",
    "    if i%10000 == 0: \n",
    "        print(time.time())\n",
    "        print(\"check up point, \", i)\n",
    "    if num % i == 0 and is_prime(i): \n",
    "        print(\"Found one, \", i)\n",
    "        print(time.time())\n",
    "        max_prime_number = i\n",
    "\n",
    "print(\"Final point, \", i)\n",
    "print(\"\")\n",
    "# End time measurement\n",
    "end_time = time.time()\n",
    "\n",
    "print(f\"Largest prime factor is \", max_prime_number)\n",
    "print(\"Execution time:\", end_time - start_time, \"seconds\")"
   ]
  },
  {
   "cell_type": "code",
   "execution_count": null,
   "id": "0237757e",
   "metadata": {},
   "outputs": [],
   "source": [
    "len(prime_number_list), max(prime_number_list)"
   ]
  },
  {
   "cell_type": "code",
   "execution_count": null,
   "id": "fe3f74ba",
   "metadata": {},
   "outputs": [],
   "source": [
    "prime_number_list"
   ]
  },
  {
   "cell_type": "code",
   "execution_count": null,
   "id": "3cf09584",
   "metadata": {},
   "outputs": [],
   "source": [
    "start_time = time.time()\n",
    "is_prime(1110)\n",
    "end_time = time.time()\n",
    "print(\"Execution time:\", end_time - start_time, \"seconds\")"
   ]
  },
  {
   "cell_type": "code",
   "execution_count": null,
   "id": "5ee8560b",
   "metadata": {},
   "outputs": [],
   "source": [
    "start_time = time.time()\n",
    "x = 600851475143\n",
    "i = 0\n",
    "while x > 1:\n",
    "    i +=1\n",
    "    print(x)\n",
    "    x = x//2\n",
    "    if i%10 == 0:\n",
    "        print(\"In the condition -  \", i)\n",
    "end_time = time.time()\n",
    "print(\"Execution time:\", end_time - start_time, \"seconds\")"
   ]
  },
  {
   "cell_type": "code",
   "execution_count": null,
   "id": "dcb621ef",
   "metadata": {},
   "outputs": [],
   "source": [
    "((600851475143//600851475)*40)/3600"
   ]
  },
  {
   "cell_type": "code",
   "execution_count": null,
   "id": "73fea1bd",
   "metadata": {},
   "outputs": [],
   "source": [
    "500/60"
   ]
  },
  {
   "cell_type": "code",
   "execution_count": null,
   "id": "f514277d",
   "metadata": {},
   "outputs": [],
   "source": [
    "7*7*60"
   ]
  },
  {
   "cell_type": "code",
   "execution_count": null,
   "id": "0e1d7e75",
   "metadata": {},
   "outputs": [],
   "source": [
    "49*5"
   ]
  },
  {
   "cell_type": "code",
   "execution_count": null,
   "id": "bba22bb2",
   "metadata": {},
   "outputs": [],
   "source": []
  }
 ],
 "metadata": {
  "kernelspec": {
   "display_name": "Python 3 (ipykernel)",
   "language": "python",
   "name": "python3"
  },
  "language_info": {
   "codemirror_mode": {
    "name": "ipython",
    "version": 3
   },
   "file_extension": ".py",
   "mimetype": "text/x-python",
   "name": "python",
   "nbconvert_exporter": "python",
   "pygments_lexer": "ipython3",
   "version": "3.9.13"
  }
 },
 "nbformat": 4,
 "nbformat_minor": 5
}
